{
  "cells": [
    {
      "cell_type": "markdown",
      "metadata": {
        "id": "view-in-github",
        "colab_type": "text"
      },
      "source": [
        "<a href=\"https://colab.research.google.com/github/hahajjjun/Machine_Learning_Toy_Projects/blob/main/Project_3_TGILAB_Clone_Hard_Clustering.ipynb\" target=\"_parent\"><img src=\"https://colab.research.google.com/assets/colab-badge.svg\" alt=\"Open In Colab\"/></a>"
      ]
    },
    {
      "cell_type": "markdown",
      "metadata": {
        "id": "cuxnlr4hr84L"
      },
      "source": [
        "# Setting.py"
      ]
    },
    {
      "cell_type": "code",
      "source": [
        "import pandas as pd\n",
        "import random\n",
        "\n",
        "def Normalize(arr):\n",
        "\n",
        "  sum = 0\n",
        "  for entry in arr:\n",
        "    sum += entry\n",
        "  \n",
        "  if sum==0:\n",
        "    return arr\n",
        "  for i in range(len(arr)):\n",
        "    arr[i] = arr[i]/sum\n",
        "  return arr"
      ],
      "metadata": {
        "id": "hohfCYShsC3_"
      },
      "execution_count": 1,
      "outputs": []
    },
    {
      "cell_type": "markdown",
      "source": [
        "# Init.py"
      ],
      "metadata": {
        "id": "EhUPOh5REi4h"
      }
    },
    {
      "cell_type": "code",
      "source": [
        "#Hyperparameters\n",
        "B,C,M = 3,3,2000\n",
        "x = 20 #Lower Bound of depth\n",
        "y = 30 #Upper Bound of depth\n",
        "zero_probability = 0.4 #Probability of creating [0,0]\n",
        "\n",
        "blocks = [\"block\"+str(i) for i in range(1,B+1)]\n",
        "clones = [\"clone\"+str(i) for i in range(1,C+1)]\n",
        "\n",
        "observation = dict()\n",
        "for block in blocks:\n",
        "  observation[block] = []\n",
        "\n",
        "params = dict()\n",
        "last_block = 'block' + str(B)\n",
        "for block in blocks:\n",
        "  params[block] = []\n",
        "  for clone in clones:\n",
        "    params[block].append(random.random())\n",
        "\n",
        "#Normalization\n",
        "for block in blocks:\n",
        "    params[block] = Normalize(params[block])\n",
        "\n",
        "print(\"----Hyperparameters----\")\n",
        "print(f\"Blocks : {B} \\nClones : {C} \\nMutations : {M} \\nDepth Range : ({x},{y}) \\nZero Probability : {zero_probability} \\nParams : {params}\")"
      ],
      "metadata": {
        "colab": {
          "base_uri": "https://localhost:8080/"
        },
        "id": "LRkq5V8i7rJ2",
        "outputId": "80a7239d-9f07-40af-f01e-558b3405524e"
      },
      "execution_count": 108,
      "outputs": [
        {
          "output_type": "stream",
          "name": "stdout",
          "text": [
            "----Hyperparameters----\n",
            "Blocks : 3 \n",
            "Clones : 3 \n",
            "Mutations : 2000 \n",
            "Depth Range : (20,30) \n",
            "Zero Probability : 0.4 \n",
            "Params : {'block1': [0.13149341032841724, 0.4836218338831595, 0.38488475578842335], 'block2': [0.33546970848395596, 0.5699522867581237, 0.09457800475792019], 'block3': [0.11374177016369923, 0.35377469730545646, 0.5324835325308444]}\n"
          ]
        }
      ]
    },
    {
      "cell_type": "markdown",
      "source": [
        "# Input.py"
      ],
      "metadata": {
        "id": "aNlx_u6pFMIy"
      }
    },
    {
      "cell_type": "code",
      "source": [
        "answer_membership = []\n",
        "mutation_cnt = 0\n",
        "\n",
        "while mutation_cnt < M:\n",
        "  membership = random.choice(clones)\n",
        "  zero_cnt = 0\n",
        "  mutation_input = dict()\n",
        "\n",
        "  for block in blocks:\n",
        "    #Depth & Alt Allocation\n",
        "    if random.choice(range(10)) < zero_probability*10:\n",
        "      input = [0,0]\n",
        "      zero_cnt += 1\n",
        "    else:\n",
        "      depth = random.randrange(x,y)\n",
        "      alt = int(depth*params[block][clones.index(membership)]/2)\n",
        "      input = [depth, alt]\n",
        "\n",
        "    mutation_input[block] = input\n",
        "    \n",
        "  #Check if there is mutation\n",
        "  if zero_cnt != B:\n",
        "    for block in blocks:\n",
        "      observation[block].append(mutation_input[block])\n",
        "    answer_membership.append(membership)\n",
        "    mutation_cnt += 1\n",
        "\n",
        "observation_df = pd.DataFrame(observation)\n",
        "observation_df['answer'] = answer_membership"
      ],
      "metadata": {
        "id": "WMhZD6YZGVyI"
      },
      "execution_count": 109,
      "outputs": []
    },
    {
      "cell_type": "markdown",
      "source": [
        "# Hard Clustering.py"
      ],
      "metadata": {
        "id": "evdcT2iL1d9N"
      }
    },
    {
      "cell_type": "code",
      "source": [
        "class coinEM:\n",
        "  def __init__(self, obs, params, verbose = False): #p = [p_1 corresponds to prob(Head|clone1), p_2 corresponds to prob(Head|clone2), ... p_c correspondds to prob(Head|clone c)]\n",
        "    self.obs = obs\n",
        "    self.params = params\n",
        "    self.clones = len(params)\n",
        "    self.param_history = [params]\n",
        "    self.verbose = verbose\n",
        "    self.z_table = {}\n",
        "\n",
        "  def Binomial(self, flips, heads, prob):\n",
        "    tails = flips-heads\n",
        "    return (prob**heads)*((1-prob)**(tails))\n",
        "\n",
        "  def Normalize(self, arr):\n",
        "\n",
        "    sum = 0\n",
        "    for entry in arr:\n",
        "      sum += entry\n",
        "    \n",
        "    if sum==0:\n",
        "      return arr\n",
        "    for i in range(len(arr)):\n",
        "      arr[i] = arr[i]/sum\n",
        "    return arr\n",
        "\n",
        "  def EM(self, verbose):\n",
        "\n",
        "    # E-step\n",
        "    for clone in range(self.clones):\n",
        "      self.z_table['clone'+str(clone+1)]= [[],[]] #[alt, depth-alt = normal]\n",
        "\n",
        "    for mutation in self.obs:\n",
        "      depth, alt = mutation #F : depth, H : alt, T : norm\n",
        "      norm = depth - alt\n",
        "      obs_prob = self.Normalize([self.Binomial(depth, alt, param) for param in self.params])\n",
        "\n",
        "      for clone in range(self.clones):\n",
        "        self.z_table['clone'+str(clone+1)][0].append(obs_prob[clone]*alt)\n",
        "        self.z_table['clone'+str(clone+1)][1].append(obs_prob[clone]*norm)\n",
        "\n",
        "    if verbose:\n",
        "      print(\"-\"*10)\n",
        "      print(\"iterating observation datas\")\n",
        "\n",
        "    z_table_dict = {}\n",
        "\n",
        "    for key, value in self.z_table.items():  \n",
        "      z_table_dict[key+'_alt'] = value[0]\n",
        "      z_table_dict[key+'_norm'] = value[1]\n",
        "\n",
        "    z_table_df = pd.DataFrame(z_table_dict)\n",
        "    \n",
        "    # M-step\n",
        "    self.params = [sum(self.z_table[key][0]) / (sum(self.z_table[key][0]) + sum(self.z_table[key][1])) for key in self.z_table.keys()]\n",
        "    self.param_history.append(self.params)\n",
        "\n",
        "    if verbose:\n",
        "      print(\"current params : probability\")\n",
        "      print(self.params)\n",
        "\n",
        "\n",
        "  def run(self):\n",
        "    iters = 1\n",
        "    while True:\n",
        "      previous = self.params\n",
        "      if self.verbose:\n",
        "        print(f\"iteration #{iters}\")\n",
        "      iters += 1\n",
        "      self.EM(verbose = self.verbose)\n",
        "      \n",
        "      if sum([(previous[i] - self.params[i])**2 for i in range(self.clones)])**(1/2) < 0.0005:\n",
        "        if self.verbose:\n",
        "          print(\"-\"*10)\n",
        "          print(\"EM process is finished\")\n",
        "        break\n",
        "    \n",
        "  def soft_table(self):\n",
        "    return self.z_table\n",
        "        \n",
        "    #print(self.params)"
      ],
      "metadata": {
        "id": "ZeDyXCHc1eP6"
      },
      "execution_count": 110,
      "outputs": []
    },
    {
      "cell_type": "code",
      "source": [
        "class_predictions = []\n",
        "for block in params.keys():\n",
        "  observation =  list(observation_df[block])\n",
        "  parameter = params[block]\n",
        "  model = coinEM(observation, parameter, verbose = False)\n",
        "  model.run()\n",
        "\n",
        "  output = model.soft_table()\n",
        "  re_output = []\n",
        "  for clone in clones:\n",
        "    re_output.append([sum(x) for x in zip(output[clone][0], output[clone][1])])\n",
        "  mutation_class = []\n",
        "  for i in range(len(re_output[0])):\n",
        "    mutation_class.append(Normalize([clone_output[i] for clone_output in re_output]))\n",
        "\n",
        "  class_predictions.append(mutation_class)"
      ],
      "metadata": {
        "id": "hikRGEna18Z1"
      },
      "execution_count": null,
      "outputs": []
    },
    {
      "cell_type": "code",
      "source": [
        "class_predictions = pd.DataFrame(class_predictions[:], columns=[str(i+1) for i in range(M)])\n",
        "class_predictions = class_predictions.transpose()\n",
        "class_predictions.columns = ['block'+str(i+1) for i in range(B)]"
      ],
      "metadata": {
        "id": "YuyG5mtjZ4l4"
      },
      "execution_count": 113,
      "outputs": []
    },
    {
      "cell_type": "code",
      "source": [
        "def elementwiseadd(arr):\n",
        "  result = []\n",
        "  l1 = len(arr)\n",
        "  l2 = len(arr[0])\n",
        "  for i in range(l2):\n",
        "    temp = 0\n",
        "    for j in range(l1):\n",
        "      temp += arr[j][i]\n",
        "    result.append(temp)\n",
        "  return result\n",
        "\n",
        "total_probability = []\n",
        "for mutation in range(M):\n",
        "  mutation_row = []\n",
        "  for block in class_predictions.columns:\n",
        "    mutation_row.append(class_predictions[block][mutation])\n",
        "  total_probability.append(Normalize(elementwiseadd(mutation_row)))"
      ],
      "metadata": {
        "id": "IHAbCT1O5eQz"
      },
      "execution_count": 114,
      "outputs": []
    },
    {
      "cell_type": "code",
      "source": [
        "class_predictions['prob'] = total_probability\n",
        "class_predictions['predict'] = class_predictions['prob'].map(lambda x : \"clone\"+str(x.index(max(x))+1))\n",
        "observation_df.index = class_predictions.index\n",
        "class_predictions['answer'] = observation_df['answer']"
      ],
      "metadata": {
        "id": "8D6pn8lHgT-Y"
      },
      "execution_count": 115,
      "outputs": []
    },
    {
      "cell_type": "code",
      "source": [
        "print(sum(class_predictions['answer'] == class_predictions['predict'])/M)"
      ],
      "metadata": {
        "colab": {
          "base_uri": "https://localhost:8080/"
        },
        "id": "YN7qfvu4-1PR",
        "outputId": "673e7d39-41f2-437a-eee6-a949e5186698"
      },
      "execution_count": 116,
      "outputs": [
        {
          "output_type": "stream",
          "name": "stdout",
          "text": [
            "0.994\n"
          ]
        }
      ]
    }
  ],
  "metadata": {
    "kernelspec": {
      "display_name": "Python 3",
      "language": "python",
      "name": "python3"
    },
    "language_info": {
      "codemirror_mode": {
        "name": "ipython",
        "version": 3
      },
      "file_extension": ".py",
      "mimetype": "text/x-python",
      "name": "python",
      "nbconvert_exporter": "python",
      "pygments_lexer": "ipython3",
      "version": "3.8.5"
    },
    "colab": {
      "name": "Project 3: TGILAB_Clone_Hard_Clustering.ipynb",
      "provenance": [],
      "collapsed_sections": [],
      "include_colab_link": true
    }
  },
  "nbformat": 4,
  "nbformat_minor": 0
}