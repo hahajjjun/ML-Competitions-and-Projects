{
  "nbformat": 4,
  "nbformat_minor": 0,
  "metadata": {
    "colab": {
      "name": "Project 5: TGILAB_EVD2SVD.ipynb",
      "provenance": [],
      "authorship_tag": "ABX9TyNJrYsG2m4EPa1430zmzlgZ",
      "include_colab_link": true
    },
    "kernelspec": {
      "name": "python3",
      "display_name": "Python 3"
    },
    "language_info": {
      "name": "python"
    }
  },
  "cells": [
    {
      "cell_type": "markdown",
      "metadata": {
        "id": "view-in-github",
        "colab_type": "text"
      },
      "source": [
        "<a href=\"https://colab.research.google.com/github/hahajjjun/Machine_Learning_Toy_Projects/blob/main/Project_5_TGILAB_EVD2SVD.ipynb\" target=\"_parent\"><img src=\"https://colab.research.google.com/assets/colab-badge.svg\" alt=\"Open In Colab\"/></a>"
      ]
    },
    {
      "cell_type": "markdown",
      "source": [
        "### !! Disclaimer !!\n",
        "There are several errors in this python implementation. <br/>\n",
        "Due to...\n",
        "\n",
        "1.   Handling small numbers can cause arithmetic errors, for example `math.sqrt(-1.0e-10)`\n",
        "2.   Sign Issues when numpy.linalg.evd() function is called. <br/>\n",
        "Negative signed eigenvalues are often returned, causing problem in reconstructing innitial matrix ***A***\n",
        "\n"
      ],
      "metadata": {
        "id": "SAy7aOV4x2WW"
      }
    },
    {
      "cell_type": "code",
      "execution_count": 1,
      "metadata": {
        "id": "vKGJzD6PBH6_"
      },
      "outputs": [],
      "source": [
        "import numpy as np\n",
        "from numpy.linalg import eigh #eigh can solve eigenvalue sign issue when we use eig\n",
        "from numpy.linalg import svd\n",
        "import math"
      ]
    },
    {
      "cell_type": "code",
      "source": [
        "a = np.array([[1,2,3],[4,5,6]])"
      ],
      "metadata": {
        "id": "ytRGULj-lDdj"
      },
      "execution_count": 2,
      "outputs": []
    },
    {
      "cell_type": "code",
      "source": [
        "# Transpose\n",
        "print(a)\n",
        "print(a.transpose())"
      ],
      "metadata": {
        "colab": {
          "base_uri": "https://localhost:8080/"
        },
        "id": "1Qy6tJfbb1LC",
        "outputId": "4b94d661-8fa2-4620-9797-f1dd3fe0a36d"
      },
      "execution_count": 3,
      "outputs": [
        {
          "output_type": "stream",
          "name": "stdout",
          "text": [
            "[[1 2 3]\n",
            " [4 5 6]]\n",
            "[[1 4]\n",
            " [2 5]\n",
            " [3 6]]\n"
          ]
        }
      ]
    },
    {
      "cell_type": "code",
      "source": [
        "M1 = a.dot(a.transpose()) # M1 = A A^T\n",
        "M2 = a.transpose().dot(a) # M2 = A^T A\n",
        "print(M1)\n",
        "print(M2)"
      ],
      "metadata": {
        "colab": {
          "base_uri": "https://localhost:8080/"
        },
        "id": "lPXbu5HScEMV",
        "outputId": "dd614bd8-4139-4a48-ced8-80945c8c7beb"
      },
      "execution_count": 4,
      "outputs": [
        {
          "output_type": "stream",
          "name": "stdout",
          "text": [
            "[[14 32]\n",
            " [32 77]]\n",
            "[[17 22 27]\n",
            " [22 29 36]\n",
            " [27 36 45]]\n"
          ]
        }
      ]
    },
    {
      "cell_type": "code",
      "source": [
        "def sortbyeigval(eigenValues, eigenVectors): # 두 차례 Eigenvalue Decomposition했을 때 eigenvalue 순서대로 정렬하고 부호도 통일해야 함!\n",
        "  idx = np.argsort(eigenValues)[::-1]\n",
        "  eigenValues = eigenValues[idx]\n",
        "  eigenVectors = eigenVectors[:,idx]\n",
        "  return (eigenValues, eigenVectors)\n",
        "\n",
        "def KillArithmeticError(eigenValues): # 0보다 작은 값은 불가능한데, 부동소수점 오차처럼 발생하는 오류임.\n",
        "  evals = []\n",
        "  for eval in eigenValues:\n",
        "    if eval < 0 :\n",
        "      eval = 0\n",
        "    evals.append(eval)\n",
        "  \n",
        "  return np.array(evals)\n"
      ],
      "metadata": {
        "id": "RVF9ZBsQlqcf"
      },
      "execution_count": 5,
      "outputs": []
    },
    {
      "cell_type": "code",
      "source": [
        "eval1, evec1 = eigh(M1)\n",
        "eval2, evec2 = eigh(M2)\n",
        "eigval1, eigvec1 = sortbyeigval(eval1, evec1)\n",
        "eigval2, eigvec2 = sortbyeigval(eval2, evec2)\n",
        "\n",
        "eigval1 = KillArithmeticError(eigval1)\n",
        "eigval2 = KillArithmeticError(eigval2)\n",
        "\n",
        "print(f\"Eigenvalues of M1 : {eigval1} \\n Eigenvalues of M2 : {eigval2}\")\n",
        "print(\"There are same eigenvalues, but not identical\")\n",
        "print(f\"Eigenvectors of M1 : {eigvec1} \\n Eigenvectors of M2 : {eigvec2}\")"
      ],
      "metadata": {
        "colab": {
          "base_uri": "https://localhost:8080/"
        },
        "id": "ziTu8f1XcZoN",
        "outputId": "755e8a47-23e5-4440-ecdc-95e8e1683e73"
      },
      "execution_count": 6,
      "outputs": [
        {
          "output_type": "stream",
          "name": "stdout",
          "text": [
            "Eigenvalues of M1 : [90.40267253  0.59732747] \n",
            " Eigenvalues of M2 : [90.40267253  0.59732747  0.        ]\n",
            "There are same eigenvalues, but not identical\n",
            "Eigenvectors of M1 : [[ 0.3863177  -0.92236578]\n",
            " [ 0.92236578  0.3863177 ]] \n",
            " Eigenvectors of M2 : [[-0.42866713 -0.80596391  0.40824829]\n",
            " [-0.56630692 -0.11238241 -0.81649658]\n",
            " [-0.7039467   0.58119908  0.40824829]]\n"
          ]
        }
      ]
    },
    {
      "cell_type": "code",
      "source": [
        "# Verify that Matrix is normal\n",
        "for i in range(a.shape[0]):\n",
        "  for j in range(a.shape[0]):\n",
        "    print(f\"M1 : Dot product of {i}th eigenvector and {j}th eigenvenctor :   {eigvec1[i].dot(eigvec1[j])}\")\n",
        "\n",
        "for i in range(a.shape[1]):\n",
        "  for j in range(a.shape[1]):\n",
        "    print(f\"M2 : Dot product of {i}th eigenvector and {j}th eigenvenctor :   {eigvec2[i].dot(eigvec2[j])}\")"
      ],
      "metadata": {
        "colab": {
          "base_uri": "https://localhost:8080/"
        },
        "id": "6ZPu6eZ1dDvg",
        "outputId": "8962cad5-324b-4f5e-d868-16dabc06fd12"
      },
      "execution_count": 7,
      "outputs": [
        {
          "output_type": "stream",
          "name": "stdout",
          "text": [
            "M1 : Dot product of 0th eigenvector and 0th eigenvenctor :   1.0000000000000002\n",
            "M1 : Dot product of 0th eigenvector and 1th eigenvenctor :   -1.2496472896191782e-17\n",
            "M1 : Dot product of 1th eigenvector and 0th eigenvenctor :   -1.2496472896191782e-17\n",
            "M1 : Dot product of 1th eigenvector and 1th eigenvenctor :   1.0000000000000002\n",
            "M2 : Dot product of 0th eigenvector and 0th eigenvenctor :   0.9999999999999999\n",
            "M2 : Dot product of 0th eigenvector and 1th eigenvenctor :   1.0664757969207052e-16\n",
            "M2 : Dot product of 0th eigenvector and 2th eigenvenctor :   1.400401499627867e-16\n",
            "M2 : Dot product of 1th eigenvector and 0th eigenvenctor :   1.0664757969207052e-16\n",
            "M2 : Dot product of 1th eigenvector and 1th eigenvenctor :   0.9999999999999991\n",
            "M2 : Dot product of 1th eigenvector and 2th eigenvenctor :   2.1462947648073227e-16\n",
            "M2 : Dot product of 2th eigenvector and 0th eigenvenctor :   1.400401499627867e-16\n",
            "M2 : Dot product of 2th eigenvector and 1th eigenvenctor :   2.1462947648073227e-16\n",
            "M2 : Dot product of 2th eigenvector and 2th eigenvenctor :   0.9999999999999998\n"
          ]
        }
      ]
    },
    {
      "cell_type": "code",
      "source": [
        "U = -np.array(eigvec1)\n",
        "V = np.array(eigvec2)\n",
        "Ut = U.transpose()\n",
        "Vt = V.transpose()\n",
        "Sigma = np.zeros(a.shape)\n",
        "singular = np.vectorize(lambda x : math.sqrt(x))(eigval1)\n",
        "np.fill_diagonal(Sigma, singular)\n",
        "A = U.dot(Sigma).dot(Vt)\n",
        "print(U)\n",
        "print(Sigma)\n",
        "print(Vt)\n",
        "print(A)"
      ],
      "metadata": {
        "colab": {
          "base_uri": "https://localhost:8080/"
        },
        "id": "Dlpp3P0Dd0k0",
        "outputId": "f3aab8aa-66cb-49ea-ead7-c810971a890e"
      },
      "execution_count": 8,
      "outputs": [
        {
          "output_type": "stream",
          "name": "stdout",
          "text": [
            "[[-0.3863177   0.92236578]\n",
            " [-0.92236578 -0.3863177 ]]\n",
            "[[9.508032   0.         0.        ]\n",
            " [0.         0.77286964 0.        ]]\n",
            "[[-0.42866713 -0.56630692 -0.7039467 ]\n",
            " [-0.80596391 -0.11238241  0.58119908]\n",
            " [ 0.40824829 -0.81649658  0.40824829]]\n",
            "[[1. 2. 3.]\n",
            " [4. 5. 6.]]\n"
          ]
        }
      ]
    }
  ]
}
