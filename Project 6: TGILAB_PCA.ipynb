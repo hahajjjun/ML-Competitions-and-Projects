{
  "nbformat": 4,
  "nbformat_minor": 0,
  "metadata": {
    "colab": {
      "name": "Project 6: TGILAB_PCA.ipynb",
      "provenance": [],
      "authorship_tag": "ABX9TyOyfVtAB+qic+y5fPLpcnRx",
      "include_colab_link": true
    },
    "kernelspec": {
      "name": "python3",
      "display_name": "Python 3"
    },
    "language_info": {
      "name": "python"
    }
  },
  "cells": [
    {
      "cell_type": "markdown",
      "metadata": {
        "id": "view-in-github",
        "colab_type": "text"
      },
      "source": [
        "<a href=\"https://colab.research.google.com/github/hahajjjun/Machine_Learning_Toy_Projects/blob/main/Project_6_TGILAB_PCA.ipynb\" target=\"_parent\"><img src=\"https://colab.research.google.com/assets/colab-badge.svg\" alt=\"Open In Colab\"/></a>"
      ]
    },
    {
      "cell_type": "markdown",
      "source": [
        "### Python Implementation and Visualization of PCA process"
      ],
      "metadata": {
        "id": "qXB7wzG6Z_Qq"
      }
    },
    {
      "cell_type": "code",
      "execution_count": 2,
      "metadata": {
        "id": "iMSTepFnRYSp"
      },
      "outputs": [],
      "source": [
        "import random\n",
        "import math\n",
        "import numpy as np\n",
        "import matplotlib.pyplot as plt"
      ]
    },
    {
      "cell_type": "code",
      "source": [
        "x = sorted(random.sample(range(100),20))\n",
        "y = sorted(random.sample(range(100),20), reverse = True)"
      ],
      "metadata": {
        "id": "1KrAasl0Sz53"
      },
      "execution_count": 41,
      "outputs": []
    },
    {
      "cell_type": "code",
      "source": [
        "datas = [(x[i],y[i]) for i in range(len(x))]"
      ],
      "metadata": {
        "id": "zKrGgl-QUNIj"
      },
      "execution_count": 44,
      "outputs": []
    },
    {
      "cell_type": "code",
      "source": [
        "data_matrix = np.array(datas) - np.array(datas).mean(0) # broadcasting"
      ],
      "metadata": {
        "id": "t5f3oY6zWcNo"
      },
      "execution_count": 54,
      "outputs": []
    },
    {
      "cell_type": "code",
      "source": [
        "data_matrix.mean(0)"
      ],
      "metadata": {
        "colab": {
          "base_uri": "https://localhost:8080/"
        },
        "id": "gTfrCXkuWrJd",
        "outputId": "8fae6c42-cec9-4706-95f4-7561b8294ddb"
      },
      "execution_count": 55,
      "outputs": [
        {
          "output_type": "execute_result",
          "data": {
            "text/plain": [
              "array([7.10542736e-16, 0.00000000e+00])"
            ]
          },
          "metadata": {},
          "execution_count": 55
        }
      ]
    },
    {
      "cell_type": "code",
      "source": [
        "cov_matrix = data_matrix.transpose().dot(data_matrix) / data_matrix.shape[0]"
      ],
      "metadata": {
        "id": "685dwZukW9MI"
      },
      "execution_count": 64,
      "outputs": []
    },
    {
      "cell_type": "code",
      "source": [
        "from numpy.linalg import eig\n",
        "eval, evec = eig(cov_matrix)"
      ],
      "metadata": {
        "id": "aWiw84AzXug4"
      },
      "execution_count": 65,
      "outputs": []
    },
    {
      "cell_type": "code",
      "source": [
        "def sortbyeigval(eigenValues, eigenVectors): # 두 차례 Eigenvalue Decomposition했을 때 eigenvalue 크기 순서대로 정렬하고 부호도 통일해야 함!\n",
        "  idx = np.argsort(eigenValues)[::-1]\n",
        "  eigenValues = eigenValues[idx]\n",
        "  eigenVectors = eigenVectors[:,idx]\n",
        "  return (eigenValues, eigenVectors)"
      ],
      "metadata": {
        "id": "hnyUBJffX7Zc"
      },
      "execution_count": 68,
      "outputs": []
    },
    {
      "cell_type": "code",
      "source": [
        "eval, evec = sortbyeigval(eval, evec)"
      ],
      "metadata": {
        "id": "ctrGBmXkYdm6"
      },
      "execution_count": 69,
      "outputs": []
    },
    {
      "cell_type": "code",
      "source": [
        "PC1, PC2 = evec[0], evec[1]\n",
        "x_m, y_m = sum(x)/len(x), sum(y)/len(y)"
      ],
      "metadata": {
        "id": "U6CyGUZMYhXn"
      },
      "execution_count": 72,
      "outputs": []
    },
    {
      "cell_type": "code",
      "source": [
        "fig, ax = plt.subplots(1, figsize = (6,6))\n",
        "ax.scatter(x,y)\n",
        "ax.add_patch(ax.arrow(x_m,y_m, PC1[0]*10, PC1[1]*10, color = \"b\", shape = \"full\", head_width = 3))\n",
        "ax.add_patch(ax.arrow(x_m,y_m, PC2[0]*10, PC2[1]*10, color = \"r\", shape = \"full\", head_width = 3))\n",
        "plt.show()"
      ],
      "metadata": {
        "colab": {
          "base_uri": "https://localhost:8080/",
          "height": 374
        },
        "id": "e6QqoiHIYyL5",
        "outputId": "ef7368d5-0fd3-415b-87e5-1cb37497808c"
      },
      "execution_count": 82,
      "outputs": [
        {
          "output_type": "display_data",
          "data": {
            "image/png": "[encoded data removed]",
            "text/plain": [
              "<Figure size 432x432 with 1 Axes>"
            ]
          },
          "metadata": {
            "needs_background": "light"
          }
        }
      ]
    }
  ]
}
