{
  "cells": [
    {
      "cell_type": "markdown",
      "metadata": {
        "id": "view-in-github",
        "colab_type": "text"
      },
      "source": [
        "<a href=\"https://colab.research.google.com/github/hahajjjun/MLCompetition_Toy_Projects/blob/main/hard_clustering.ipynb\" target=\"_parent\"><img src=\"https://colab.research.google.com/assets/colab-badge.svg\" alt=\"Open In Colab\"/></a>"
      ]
    },
    {
      "cell_type": "markdown",
      "metadata": {
        "id": "cuxnlr4hr84L"
      },
      "source": [
        "# Setting.py"
      ]
    },
    {
      "cell_type": "code",
      "source": [
        "import pandas as pd\n",
        "import random\n",
        "\n",
        "def Normalize(arr):\n",
        "\n",
        "  sum = 0\n",
        "  for entry in arr:\n",
        "    sum += entry\n",
        "  \n",
        "  for i in range(len(arr)):\n",
        "    arr[i] = arr[i]/sum\n",
        "  return arr"
      ],
      "metadata": {
        "id": "hohfCYShsC3_"
      },
      "execution_count": 21,
      "outputs": []
    },
    {
      "cell_type": "markdown",
      "source": [
        "# Init.py"
      ],
      "metadata": {
        "id": "EhUPOh5REi4h"
      }
    },
    {
      "cell_type": "code",
      "source": [
        "#Hyperparameters\n",
        "B,C,M = 3,3,8000\n",
        "x = 20 #Lower Bound of depth\n",
        "y = 30 #Upper Bound of depth\n",
        "zero_probability = 0.4 #Probability of creating [0,0]\n",
        "\n",
        "blocks = [\"block\"+str(i) for i in range(1,B+1)]\n",
        "clones = [\"clone\"+str(i) for i in range(1,C+1)]\n",
        "\n",
        "observation = dict()\n",
        "for block in blocks:\n",
        "  observation[block] = []\n",
        "\n",
        "params = dict()\n",
        "last_block = 'block' + str(B)\n",
        "for block in blocks:\n",
        "  params[block] = []\n",
        "  for clone in clones:\n",
        "    params[block].append(random.random())\n",
        "\n",
        "#Normalization\n",
        "for block in blocks:\n",
        "    params[block] = Normalize(params[block])\n",
        "\n",
        "print(\"----Hyperparameters----\")\n",
        "print(f\"Blocks : {B} \\nClones : {C} \\nMutations : {M} \\nDepth Range : ({x},{y}) \\nZero Probability : {zero_probability} \\nParams : {params}\")"
      ],
      "metadata": {
        "colab": {
          "base_uri": "https://localhost:8080/"
        },
        "id": "LRkq5V8i7rJ2",
        "outputId": "05ef9200-def4-43a0-9e5c-6d3abbad85d3"
      },
      "execution_count": 27,
      "outputs": [
        {
          "output_type": "stream",
          "name": "stdout",
          "text": [
            "----Hyperparameters----\n",
            "Blocks : 3 \n",
            "Clones : 3 \n",
            "Mutations : 8000 \n",
            "Depth Range : (20,30) \n",
            "Zero Probability : 0.4 \n",
            "Params : {'block1': [0.6340804411839511, 0.18360861455189945, 0.18231094426414945], 'block2': [0.06105310029533281, 0.37397995964760455, 0.5649669400570626], 'block3': [0.5321535854763867, 0.20662956152247133, 0.26121685300114195]}\n"
          ]
        }
      ]
    },
    {
      "cell_type": "markdown",
      "source": [
        "# Input.py"
      ],
      "metadata": {
        "id": "aNlx_u6pFMIy"
      }
    },
    {
      "cell_type": "code",
      "source": [
        "answer_membership = []\n",
        "mutation_cnt = 0\n",
        "\n",
        "while mutation_cnt < M:\n",
        "  membership = random.choice(clones)\n",
        "  zero_cnt = 0\n",
        "  mutation_input = dict()\n",
        "\n",
        "  for block in blocks:\n",
        "    #Depth & Alt Allocation\n",
        "    if random.choice(range(10)) < zero_probability*10:\n",
        "      input = [0,0]\n",
        "      zero_cnt += 1\n",
        "    else:\n",
        "      depth = random.randrange(x,y)\n",
        "      alt = int(depth*params[block][clones.index(membership)]/2)\n",
        "      input = [depth, alt]\n",
        "\n",
        "    mutation_input[block] = input\n",
        "    \n",
        "  #Check if there is mutation\n",
        "  if zero_cnt != 3:\n",
        "    for block in blocks:\n",
        "      observation[block].append(mutation_input[block])\n",
        "    answer_membership.append(membership)\n",
        "    mutation_cnt += 1\n",
        "\n",
        "observation_df = pd.DataFrame(observation)\n",
        "observation_df['answer'] = answer_membership"
      ],
      "metadata": {
        "id": "WMhZD6YZGVyI"
      },
      "execution_count": 23,
      "outputs": []
    },
    {
      "cell_type": "markdown",
      "source": [
        "# Clustering.py"
      ],
      "metadata": {
        "id": "ULUYj8XpRRWN"
      }
    },
    {
      "cell_type": "code",
      "source": [
        "new_df = pd.DataFrame()\n",
        "i = 0\n",
        "for column in observation_df.columns:\n",
        "  i += 1\n",
        "  if column != 'answer':\n",
        "    freq_list = []\n",
        "    for items in observation_df[column]:\n",
        "      depth, alt = items[0], items[1]\n",
        "      if depth != 0:\n",
        "        normal = depth - alt\n",
        "        freq_list.append(alt/depth)\n",
        "      else:\n",
        "        freq_list.append(0)\n",
        "    new_df[i] = freq_list\n",
        "new_df"
      ],
      "metadata": {
        "colab": {
          "base_uri": "https://localhost:8080/",
          "height": 423
        },
        "id": "f4q3uFCpSvp_",
        "outputId": "dfc806e6-7410-4b2e-a436-b67181f3a998"
      },
      "execution_count": 28,
      "outputs": [
        {
          "output_type": "execute_result",
          "data": {
            "text/html": [
              "\n",
              "  <div id=\"df-cf3e21b6-fd5f-42dc-89ad-af061d9848f4\">\n",
              "    <div class=\"colab-df-container\">\n",
              "      <div>\n",
              "<style scoped>\n",
              "    .dataframe tbody tr th:only-of-type {\n",
              "        vertical-align: middle;\n",
              "    }\n",
              "\n",
              "    .dataframe tbody tr th {\n",
              "        vertical-align: top;\n",
              "    }\n",
              "\n",
              "    .dataframe thead th {\n",
              "        text-align: right;\n",
              "    }\n",
              "</style>\n",
              "<table border=\"1\" class=\"dataframe\">\n",
              "  <thead>\n",
              "    <tr style=\"text-align: right;\">\n",
              "      <th></th>\n",
              "      <th>1</th>\n",
              "      <th>2</th>\n",
              "      <th>3</th>\n",
              "    </tr>\n",
              "  </thead>\n",
              "  <tbody>\n",
              "    <tr>\n",
              "      <th>0</th>\n",
              "      <td>0.142857</td>\n",
              "      <td>0.379310</td>\n",
              "      <td>0.200000</td>\n",
              "    </tr>\n",
              "    <tr>\n",
              "      <th>1</th>\n",
              "      <td>0.142857</td>\n",
              "      <td>0.035714</td>\n",
              "      <td>0.068966</td>\n",
              "    </tr>\n",
              "    <tr>\n",
              "      <th>2</th>\n",
              "      <td>0.000000</td>\n",
              "      <td>0.038462</td>\n",
              "      <td>0.041667</td>\n",
              "    </tr>\n",
              "    <tr>\n",
              "      <th>3</th>\n",
              "      <td>0.000000</td>\n",
              "      <td>0.038462</td>\n",
              "      <td>0.000000</td>\n",
              "    </tr>\n",
              "    <tr>\n",
              "      <th>4</th>\n",
              "      <td>0.130435</td>\n",
              "      <td>0.034483</td>\n",
              "      <td>0.037037</td>\n",
              "    </tr>\n",
              "    <tr>\n",
              "      <th>...</th>\n",
              "      <td>...</td>\n",
              "      <td>...</td>\n",
              "      <td>...</td>\n",
              "    </tr>\n",
              "    <tr>\n",
              "      <th>7995</th>\n",
              "      <td>0.000000</td>\n",
              "      <td>0.000000</td>\n",
              "      <td>0.208333</td>\n",
              "    </tr>\n",
              "    <tr>\n",
              "      <th>7996</th>\n",
              "      <td>0.136364</td>\n",
              "      <td>0.375000</td>\n",
              "      <td>0.178571</td>\n",
              "    </tr>\n",
              "    <tr>\n",
              "      <th>7997</th>\n",
              "      <td>0.000000</td>\n",
              "      <td>0.038462</td>\n",
              "      <td>0.206897</td>\n",
              "    </tr>\n",
              "    <tr>\n",
              "      <th>7998</th>\n",
              "      <td>0.136364</td>\n",
              "      <td>0.040000</td>\n",
              "      <td>0.000000</td>\n",
              "    </tr>\n",
              "    <tr>\n",
              "      <th>7999</th>\n",
              "      <td>0.130435</td>\n",
              "      <td>0.409091</td>\n",
              "      <td>0.208333</td>\n",
              "    </tr>\n",
              "  </tbody>\n",
              "</table>\n",
              "<p>8000 rows × 3 columns</p>\n",
              "</div>\n",
              "      <button class=\"colab-df-convert\" onclick=\"convertToInteractive('df-cf3e21b6-fd5f-42dc-89ad-af061d9848f4')\"\n",
              "              title=\"Convert this dataframe to an interactive table.\"\n",
              "              style=\"display:none;\">\n",
              "        \n",
              "  <svg xmlns=\"http://www.w3.org/2000/svg\" height=\"24px\"viewBox=\"0 0 24 24\"\n",
              "       width=\"24px\">\n",
              "    <path d=\"M0 0h24v24H0V0z\" fill=\"none\"/>\n",
              "    <path d=\"M18.56 5.44l.94 2.06.94-2.06 2.06-.94-2.06-.94-.94-2.06-.94 2.06-2.06.94zm-11 1L8.5 8.5l.94-2.06 2.06-.94-2.06-.94L8.5 2.5l-.94 2.06-2.06.94zm10 10l.94 2.06.94-2.06 2.06-.94-2.06-.94-.94-2.06-.94 2.06-2.06.94z\"/><path d=\"M17.41 7.96l-1.37-1.37c-.4-.4-.92-.59-1.43-.59-.52 0-1.04.2-1.43.59L10.3 9.45l-7.72 7.72c-.78.78-.78 2.05 0 2.83L4 21.41c.39.39.9.59 1.41.59.51 0 1.02-.2 1.41-.59l7.78-7.78 2.81-2.81c.8-.78.8-2.07 0-2.86zM5.41 20L4 18.59l7.72-7.72 1.47 1.35L5.41 20z\"/>\n",
              "  </svg>\n",
              "      </button>\n",
              "      \n",
              "  <style>\n",
              "    .colab-df-container {\n",
              "      display:flex;\n",
              "      flex-wrap:wrap;\n",
              "      gap: 12px;\n",
              "    }\n",
              "\n",
              "    .colab-df-convert {\n",
              "      background-color: #E8F0FE;\n",
              "      border: none;\n",
              "      border-radius: 50%;\n",
              "      cursor: pointer;\n",
              "      display: none;\n",
              "      fill: #1967D2;\n",
              "      height: 32px;\n",
              "      padding: 0 0 0 0;\n",
              "      width: 32px;\n",
              "    }\n",
              "\n",
              "    .colab-df-convert:hover {\n",
              "      background-color: #E2EBFA;\n",
              "      box-shadow: 0px 1px 2px rgba(60, 64, 67, 0.3), 0px 1px 3px 1px rgba(60, 64, 67, 0.15);\n",
              "      fill: #174EA6;\n",
              "    }\n",
              "\n",
              "    [theme=dark] .colab-df-convert {\n",
              "      background-color: #3B4455;\n",
              "      fill: #D2E3FC;\n",
              "    }\n",
              "\n",
              "    [theme=dark] .colab-df-convert:hover {\n",
              "      background-color: #434B5C;\n",
              "      box-shadow: 0px 1px 3px 1px rgba(0, 0, 0, 0.15);\n",
              "      filter: drop-shadow(0px 1px 2px rgba(0, 0, 0, 0.3));\n",
              "      fill: #FFFFFF;\n",
              "    }\n",
              "  </style>\n",
              "\n",
              "      <script>\n",
              "        const buttonEl =\n",
              "          document.querySelector('#df-cf3e21b6-fd5f-42dc-89ad-af061d9848f4 button.colab-df-convert');\n",
              "        buttonEl.style.display =\n",
              "          google.colab.kernel.accessAllowed ? 'block' : 'none';\n",
              "\n",
              "        async function convertToInteractive(key) {\n",
              "          const element = document.querySelector('#df-cf3e21b6-fd5f-42dc-89ad-af061d9848f4');\n",
              "          const dataTable =\n",
              "            await google.colab.kernel.invokeFunction('convertToInteractive',\n",
              "                                                     [key], {});\n",
              "          if (!dataTable) return;\n",
              "\n",
              "          const docLinkHtml = 'Like what you see? Visit the ' +\n",
              "            '<a target=\"_blank\" href=https://colab.research.google.com/notebooks/data_table.ipynb>data table notebook</a>'\n",
              "            + ' to learn more about interactive tables.';\n",
              "          element.innerHTML = '';\n",
              "          dataTable['output_type'] = 'display_data';\n",
              "          await google.colab.output.renderOutput(dataTable, element);\n",
              "          const docLink = document.createElement('div');\n",
              "          docLink.innerHTML = docLinkHtml;\n",
              "          element.appendChild(docLink);\n",
              "        }\n",
              "      </script>\n",
              "    </div>\n",
              "  </div>\n",
              "  "
            ],
            "text/plain": [
              "             1         2         3\n",
              "0     0.142857  0.379310  0.200000\n",
              "1     0.142857  0.035714  0.068966\n",
              "2     0.000000  0.038462  0.041667\n",
              "3     0.000000  0.038462  0.000000\n",
              "4     0.130435  0.034483  0.037037\n",
              "...        ...       ...       ...\n",
              "7995  0.000000  0.000000  0.208333\n",
              "7996  0.136364  0.375000  0.178571\n",
              "7997  0.000000  0.038462  0.206897\n",
              "7998  0.136364  0.040000  0.000000\n",
              "7999  0.130435  0.409091  0.208333\n",
              "\n",
              "[8000 rows x 3 columns]"
            ]
          },
          "metadata": {},
          "execution_count": 28
        }
      ]
    },
    {
      "cell_type": "code",
      "source": [
        "from sklearn.mixture import GaussianMixture\n",
        "gmm = GaussianMixture(n_components=C, random_state=0).fit(new_df)\n",
        "gmm_cluster_labels = gmm.predict(new_df)\n",
        "print(gmm_cluster_labels)"
      ],
      "metadata": {
        "colab": {
          "base_uri": "https://localhost:8080/"
        },
        "id": "kQXr4Bhl1V-U",
        "outputId": "cf4b7e5b-1350-4680-bdb0-bc4bff3ee692"
      },
      "execution_count": 29,
      "outputs": [
        {
          "output_type": "stream",
          "name": "stdout",
          "text": [
            "[1 0 0 ... 0 0 1]\n"
          ]
        }
      ]
    },
    {
      "cell_type": "code",
      "source": [
        "table = pd.DataFrame(columns = [\"predict\", \"answer\"])\n",
        "table[\"predict\"] = gmm_cluster_labels\n",
        "table[\"answer\"] = observation_df['answer']\n",
        "link = {\"clone1\":0, \"clone2\":0, \"clone3\":0}\n",
        "for clone in clones:\n",
        "  zeros = sum(table[table[\"answer\"] == clone]['predict'] == 0)\n",
        "  ones = sum(table[table[\"answer\"] == clone]['predict'] == 1)\n",
        "  twos = sum(table[table[\"answer\"] == clone]['predict'] ==2)\n",
        "  cnts = [zeros, ones, twos]\n",
        "  link[clone] = cnts.index(max(cnts))\n",
        "table.answer = table.answer.map(link)\n",
        "print('Accruacy:', sum(table.predict==table.answer)/len(table))"
      ],
      "metadata": {
        "colab": {
          "base_uri": "https://localhost:8080/"
        },
        "id": "pzxpuH2v1nf4",
        "outputId": "d26bb33f-f0ee-4bd1-c6c6-892ab7410663"
      },
      "execution_count": 26,
      "outputs": [
        {
          "output_type": "stream",
          "name": "stdout",
          "text": [
            "Accruacy: 0.797\n"
          ]
        }
      ]
    }
  ],
  "metadata": {
    "kernelspec": {
      "display_name": "Python 3",
      "language": "python",
      "name": "python3"
    },
    "language_info": {
      "codemirror_mode": {
        "name": "ipython",
        "version": 3
      },
      "file_extension": ".py",
      "mimetype": "text/x-python",
      "name": "python",
      "nbconvert_exporter": "python",
      "pygments_lexer": "ipython3",
      "version": "3.8.5"
    },
    "colab": {
      "name": "hard_clustering.ipynb",
      "provenance": [],
      "collapsed_sections": [],
      "include_colab_link": true
    }
  },
  "nbformat": 4,
  "nbformat_minor": 0
}