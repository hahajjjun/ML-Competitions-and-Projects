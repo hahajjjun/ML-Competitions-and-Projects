{
  "nbformat": 4,
  "nbformat_minor": 0,
  "metadata": {
    "colab": {
      "name": "coinEM.ipynb",
      "provenance": [],
      "authorship_tag": "ABX9TyOd/391GUi+WQVI1zIea7Yu",
      "include_colab_link": true
    },
    "kernelspec": {
      "name": "python3",
      "display_name": "Python 3"
    },
    "language_info": {
      "name": "python"
    }
  },
  "cells": [
    {
      "cell_type": "markdown",
      "metadata": {
        "id": "view-in-github",
        "colab_type": "text"
      },
      "source": [
        "<a href=\"https://colab.research.google.com/github/hahajjjun/MLCompetition_Toy_Projects/blob/main/coinEM.ipynb\" target=\"_parent\"><img src=\"https://colab.research.google.com/assets/colab-badge.svg\" alt=\"Open In Colab\"/></a>"
      ]
    },
    {
      "cell_type": "markdown",
      "source": [
        "# Class coinEM\n",
        "----------\n",
        "Input : observation(*list of tuples(flips, heads)*), initial p_1, initial p_2 <br/>\n",
        "Output : EM process logs"
      ],
      "metadata": {
        "id": "4E76HtUIvfxn"
      }
    },
    {
      "cell_type": "code",
      "source": [
        "import math\n",
        "import plotly\n",
        "import matplotlib.pyplot as plt\n",
        "import seaborn as sns\n",
        "import pandas as pd"
      ],
      "metadata": {
        "id": "edKGiEzkwext"
      },
      "execution_count": 26,
      "outputs": []
    },
    {
      "cell_type": "code",
      "execution_count": 128,
      "metadata": {
        "id": "YzJkd-EbvYRZ"
      },
      "outputs": [],
      "source": [
        "class coinEM:\n",
        "  def __init__(self, obs, p_1, p_2, verbose = False): #p_1 corresponds to prob(Head|A), p_2 corresponds to prob(Head|B)\n",
        "    self.obs = obs\n",
        "    self.p_1 = p_1\n",
        "    self.p_2 = p_2\n",
        "    self.p_history = [[p_1,p_2]]\n",
        "    self.verbose = verbose\n",
        "\n",
        "  def Binomial(self, flips, heads, prob):\n",
        "    tails = flips-heads\n",
        "    return (prob**heads)*((1-prob)**(tails))\n",
        "\n",
        "  def EM(self, verbose):\n",
        "\n",
        "    # E-step\n",
        "    z_table = {'A':[[],[]], 'B':[[],[]]}\n",
        "    for trial in self.obs:\n",
        "      F, H = trial #F : Flips, T : Tails, H : Heads\n",
        "      T = F-H\n",
        "      prob_1 = self.Binomial(F, H, self.p_1)\n",
        "      prob_2 = self.Binomial(F, H, self.p_2)\n",
        "      obs_prob = [prob_1/ (prob_1+prob_2), prob_2/ (prob_1+prob_2)] \n",
        "      z_table['A'][0].append(obs_prob[0]*H)\n",
        "      z_table['A'][1].append(obs_prob[0]*T)\n",
        "      z_table['B'][0].append(obs_prob[1]*H)\n",
        "      z_table['B'][1].append(obs_prob[1]*T)\n",
        "\n",
        "    if verbose:\n",
        "      print(\"-\"*10)\n",
        "      print(\"iterating observation datas\")\n",
        "      z_table_dict = {}\n",
        "\n",
        "      for key, value in z_table.items():  \n",
        "        z_table_dict[key+'_H'] = value[0]\n",
        "        z_table_dict[key+'_T'] = value[1]\n",
        "\n",
        "      z_table_df = pd.DataFrame(z_table_dict)\n",
        "      print(z_table_df)\n",
        "    \n",
        "    # M-step\n",
        "    self.p_1 = sum(z_table['A'][0]) / (sum(z_table['A'][0]) + sum(z_table['A'][1]))\n",
        "    self.p_2 = sum(z_table['B'][0]) / (sum(z_table['B'][0]) + sum(z_table['B'][1]))\n",
        "    self.p_history.append([self.p_1, self.p_2])\n",
        "\n",
        "    if verbose:\n",
        "      print(\"current params : probability\")\n",
        "      print(f\"p_1 : {self.p_1} \\t p_2  : {self.p_2}\")\n",
        "\n",
        "\n",
        "  def run(self):\n",
        "    iters = 1\n",
        "    while True:\n",
        "      previous_p_1 = self.p_1\n",
        "      previous_p_2 = self.p_2\n",
        "      if self.verbose:\n",
        "        print(f\"iteration #{iters}\")\n",
        "      iters += 1\n",
        "      self.EM(verbose = self.verbose)\n",
        "      if abs(previous_p_1-self.p_1) < 0.0005 and abs(previous_p_2-self.p_2) < 0.0005:\n",
        "        if self.verbose:\n",
        "          print(\"-\"*10)\n",
        "        print(\"EM process is finished\")\n",
        "        break\n",
        "    \n",
        "  def plot(self):\n",
        "    fig, ax = plt.subplots(figsize = (8,8))\n",
        "    p1_log, p2_log = zip(*self.p_history)\n",
        "    temp = self.p_history[0][0], self.p_history[0][1]\n",
        "    for logs in self.p_history:\n",
        "      plt.plot(logs[0], logs[1], temp[0], temp[1], linestyle='dashed', marker = \".\", linewidth=2)\n",
        "      plt.text(logs[0]+0.0001, logs[1]+0.0001, f\"{logs[0]:.3f},{logs[1]:.3f}\")\n",
        "      temp = logs[0], logs[1]"
      ]
    },
    {
      "cell_type": "code",
      "source": [
        "observation =  [(10,5), (10,4), (10,7), (10,6), (10,2)]\n",
        "init_p1 = 0.4\n",
        "init_p2 = 0.6\n",
        "model = coinEM(observation, init_p1, init_p2, verbose = False)\n",
        "model.run()\n",
        "model.plot()"
      ],
      "metadata": {
        "colab": {
          "base_uri": "https://localhost:8080/",
          "height": 500
        },
        "id": "b6FW11o8wm4j",
        "outputId": "f8b49c2e-1bbc-4055-bde5-58b36c777f00"
      },
      "execution_count": 129,
      "outputs": [
        {
          "output_type": "stream",
          "name": "stdout",
          "text": [
            "EM process is finished\n"
          ]
        },
        {
          "output_type": "display_data",
          "data": {
            "image/png": "[encoded data removed]",
            "text/plain": [
              "<Figure size 576x576 with 1 Axes>"
            ]
          },
          "metadata": {
            "needs_background": "light"
          }
        }
      ]
    }
  ]
}
